{
  "nbformat": 4,
  "nbformat_minor": 0,
  "metadata": {
    "colab": {
      "provenance": []
    },
    "kernelspec": {
      "name": "python3",
      "display_name": "Python 3"
    },
    "language_info": {
      "name": "python"
    }
  },
  "cells": [
    {
      "cell_type": "code",
      "execution_count": 1,
      "metadata": {
        "id": "yog20_u5lHZc"
      },
      "outputs": [],
      "source": [
        "x=5 #定義一個變數x並將其設定為5"
      ]
    },
    {
      "cell_type": "code",
      "source": [
        "print(f\"變數的值是:{x}\") #輸出變數x的值"
      ],
      "metadata": {
        "colab": {
          "base_uri": "https://localhost:8080/"
        },
        "id": "1PdyRxyMlS9U",
        "outputId": "38144043-0b2c-42e8-9db3-27b643f66352"
      },
      "execution_count": 2,
      "outputs": [
        {
          "output_type": "stream",
          "name": "stdout",
          "text": [
            "變數的值是:5\n"
          ]
        }
      ]
    },
    {
      "cell_type": "code",
      "source": [
        "print(f\"變數x的記憶體地址是:{id(x)}\")"
      ],
      "metadata": {
        "colab": {
          "base_uri": "https://localhost:8080/"
        },
        "id": "H0mCdAG5lUGD",
        "outputId": "63ff07af-191c-4e0b-e9a6-934ba4e7f2df"
      },
      "execution_count": 3,
      "outputs": [
        {
          "output_type": "stream",
          "name": "stdout",
          "text": [
            "變數x的記憶體地址是:136393112994160\n"
          ]
        }
      ]
    }
  ]
}